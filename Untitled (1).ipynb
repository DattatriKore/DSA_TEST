{
 "cells": [
  {
   "cell_type": "code",
   "execution_count": 1,
   "id": "3494ce86",
   "metadata": {},
   "outputs": [
    {
     "name": "stdout",
     "output_type": "stream",
     "text": [
      "[1, 3, 12, 0, 0]\n"
     ]
    }
   ],
   "source": [
    "'''\n",
    "Given an integer array nums, move all 0's to the end of it while maintaining the relative order of the non-zero elements.\n",
    "\n",
    "Note that you must do this in-place without making a copy of the array.\n",
    "\n",
    "Example 1:\n",
    "Input: nums = [0,1,0,3,12]\n",
    "Output: [1,3,12,0,0]\n",
    "\n",
    "Example 2:\n",
    "Input: nums = [0]\n",
    "Output: [0]\n",
    "\n",
    "Constraints:\n",
    "a. 1 <= nums.length <= 10^4\n",
    "b. -2^31 <= nums[i] <= 2^31 - 1\n",
    "\n",
    "'''\n",
    "\n",
    "def move_zeros(nums):\n",
    "    i = 0\n",
    "    j = 0\n",
    "    \n",
    "    while i < len(nums):\n",
    "        if nums[i]!=0:\n",
    "            nums[i],nums[j] = nums[j],nums[i]\n",
    "            j = j+1\n",
    "            \n",
    "        i = i + 1\n",
    "    \n",
    "    return nums\n",
    "\n",
    "nums = [0,1,0,3,12]\n",
    "movezero = move_zeros(nums)\n",
    "print(movezero)"
   ]
  },
  {
   "cell_type": "code",
   "execution_count": null,
   "id": "fb7c8fb1",
   "metadata": {},
   "outputs": [],
   "source": []
  }
 ],
 "metadata": {
  "kernelspec": {
   "display_name": "Python 3 (ipykernel)",
   "language": "python",
   "name": "python3"
  },
  "language_info": {
   "codemirror_mode": {
    "name": "ipython",
    "version": 3
   },
   "file_extension": ".py",
   "mimetype": "text/x-python",
   "name": "python",
   "nbconvert_exporter": "python",
   "pygments_lexer": "ipython3",
   "version": "3.9.13"
  }
 },
 "nbformat": 4,
 "nbformat_minor": 5
}
