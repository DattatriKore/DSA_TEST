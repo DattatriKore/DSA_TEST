{
 "cells": [
  {
   "cell_type": "code",
   "execution_count": 2,
   "id": "1386a0de",
   "metadata": {},
   "outputs": [
    {
     "name": "stdout",
     "output_type": "stream",
     "text": [
      "[7, 0, 8]\n",
      "[0]\n",
      "[8, 9, 9, 9, 0, 0, 0, 1]\n"
     ]
    }
   ],
   "source": [
    "# Example 1:\n",
    "\n",
    "class ListNode:\n",
    "    def __init__(self, val=0, next=None):\n",
    "        self.val = val\n",
    "        self.next = next\n",
    "\n",
    "def addTwoNumbers(l1, l2):\n",
    "    dummy = ListNode(0)\n",
    "    current = dummy\n",
    "    carry = 0\n",
    "\n",
    "    while l1 or l2 or carry:\n",
    "        sum = carry\n",
    "\n",
    "        if l1:\n",
    "            sum += l1.val\n",
    "            l1 = l1.next\n",
    "        if l2:\n",
    "            sum += l2.val\n",
    "            l2 = l2.next\n",
    "\n",
    "        carry = sum // 10\n",
    "        digit = sum % 10\n",
    "\n",
    "        current.next = ListNode(digit)\n",
    "        current = current.next\n",
    "\n",
    "    return dummy.next\n",
    "\n",
    "def createLinkedList(digits):\n",
    "    dummy = ListNode(0)\n",
    "    current = dummy\n",
    "\n",
    "    for digit in digits:\n",
    "        current.next = ListNode(digit)\n",
    "        current = current.next\n",
    "\n",
    "    return dummy.next\n",
    "\n",
    "def linkedListToList(head):\n",
    "    result = []\n",
    "\n",
    "    while head:\n",
    "        result.append(head.val)\n",
    "        head = head.next\n",
    "\n",
    "    return result\n",
    "\n",
    "l1 = createLinkedList([2, 4, 3])\n",
    "l2 = createLinkedList([5, 6, 4])\n",
    "result = addTwoNumbers(l1, l2)\n",
    "print(linkedListToList(result))  \n",
    "\n",
    "l3 = createLinkedList([0])\n",
    "l4 = createLinkedList([0])\n",
    "result2 = addTwoNumbers(l3, l4)\n",
    "print(linkedListToList(result2))  \n",
    "\n",
    "l5 = createLinkedList([9, 9, 9, 9, 9, 9, 9])\n",
    "l6 = createLinkedList([9, 9, 9, 9])\n",
    "result3 = addTwoNumbers(l5, l6)\n",
    "print(linkedListToList(result3))  "
   ]
  },
  {
   "cell_type": "code",
   "execution_count": null,
   "id": "f4b505a2",
   "metadata": {},
   "outputs": [],
   "source": []
  }
 ],
 "metadata": {
  "kernelspec": {
   "display_name": "Python 3 (ipykernel)",
   "language": "python",
   "name": "python3"
  },
  "language_info": {
   "codemirror_mode": {
    "name": "ipython",
    "version": 3
   },
   "file_extension": ".py",
   "mimetype": "text/x-python",
   "name": "python",
   "nbconvert_exporter": "python",
   "pygments_lexer": "ipython3",
   "version": "3.9.13"
  }
 },
 "nbformat": 4,
 "nbformat_minor": 5
}
